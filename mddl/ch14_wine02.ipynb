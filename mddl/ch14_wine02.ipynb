{
 "cells": [
  {
   "cell_type": "code",
   "execution_count": 2,
   "id": "c1cd2399-e7c1-41ba-9b2e-62ee30c17c35",
   "metadata": {},
   "outputs": [],
   "source": [
    "from tensorflow.keras import models, layers\n",
    "from sklearn.model_selection import train_test_split\n",
    "import pandas as pd\n",
    "from tensorflow.keras.callbacks import ModelCheckpoint\n",
    "import os\n",
    "import numpy as np\n",
    "import matplotlib.pyplot as plt"
   ]
  },
  {
   "cell_type": "code",
   "execution_count": 3,
   "id": "2197a20e-df60-4c76-a4e1-fbaf790abd1e",
   "metadata": {},
   "outputs": [],
   "source": [
    "df = pd.read_csv('data/wine.csv', header=None)\n",
    "X = df.iloc[:, :12]\n",
    "y = df.iloc[:, 12]"
   ]
  },
  {
   "cell_type": "code",
   "execution_count": 4,
   "id": "ed7e077c-c88e-4019-bd75-7dcfe9cf4d6b",
   "metadata": {},
   "outputs": [],
   "source": [
    "X_train, X_test, y_train, y_test = train_test_split(X, y, test_size=0.2, shuffle=True)\n",
    "\n",
    "model = models.Sequential()\n",
    "model.add(layers.Dense(30, input_dim=12, activation='relu'))\n",
    "model.add(layers.Dense(12, activation='relu'))\n",
    "model.add(layers.Dense(8, activation='relu'))\n",
    "model.add(layers.Dense(1, activation='sigmoid'))\n",
    "model.compile(loss='binary_crossentropy', optimizer='adam', metrics=['accuracy'])"
   ]
  },
  {
   "cell_type": "code",
   "execution_count": 8,
   "id": "72a65cd6-34e7-4442-91c0-1a112d6dd203",
   "metadata": {
    "scrolled": true
   },
   "outputs": [
    {
     "name": "stdout",
     "output_type": "stream",
     "text": [
      "\n",
      "Epoch 1: saving model to model\\01-0.7631.hdf5\n",
      "\n",
      "Epoch 2: saving model to model\\02-0.8077.hdf5\n",
      "\n",
      "Epoch 3: saving model to model\\03-0.8492.hdf5\n",
      "\n",
      "Epoch 4: saving model to model\\04-0.8808.hdf5\n",
      "\n",
      "Epoch 5: saving model to model\\05-0.9069.hdf5\n",
      "\n",
      "Epoch 6: saving model to model\\06-0.9238.hdf5\n",
      "\n",
      "Epoch 7: saving model to model\\07-0.9269.hdf5\n",
      "\n",
      "Epoch 8: saving model to model\\08-0.9308.hdf5\n",
      "\n",
      "Epoch 9: saving model to model\\09-0.9308.hdf5\n",
      "\n",
      "Epoch 10: saving model to model\\10-0.9323.hdf5\n",
      "\n",
      "Epoch 11: saving model to model\\11-0.9323.hdf5\n",
      "\n",
      "Epoch 12: saving model to model\\12-0.9362.hdf5\n",
      "\n",
      "Epoch 13: saving model to model\\13-0.9362.hdf5\n",
      "\n",
      "Epoch 14: saving model to model\\14-0.9362.hdf5\n",
      "\n",
      "Epoch 15: saving model to model\\15-0.9346.hdf5\n",
      "\n",
      "Epoch 16: saving model to model\\16-0.9415.hdf5\n",
      "\n",
      "Epoch 17: saving model to model\\17-0.9385.hdf5\n",
      "\n",
      "Epoch 18: saving model to model\\18-0.9408.hdf5\n",
      "\n",
      "Epoch 19: saving model to model\\19-0.9408.hdf5\n",
      "\n",
      "Epoch 20: saving model to model\\20-0.9423.hdf5\n",
      "\n",
      "Epoch 21: saving model to model\\21-0.9423.hdf5\n",
      "\n",
      "Epoch 22: saving model to model\\22-0.9423.hdf5\n",
      "\n",
      "Epoch 23: saving model to model\\23-0.9431.hdf5\n",
      "\n",
      "Epoch 24: saving model to model\\24-0.9446.hdf5\n",
      "\n",
      "Epoch 25: saving model to model\\25-0.9469.hdf5\n",
      "\n",
      "Epoch 26: saving model to model\\26-0.9438.hdf5\n",
      "\n",
      "Epoch 27: saving model to model\\27-0.9446.hdf5\n",
      "\n",
      "Epoch 28: saving model to model\\28-0.9485.hdf5\n",
      "\n",
      "Epoch 29: saving model to model\\29-0.9523.hdf5\n",
      "\n",
      "Epoch 30: saving model to model\\30-0.9492.hdf5\n",
      "\n",
      "Epoch 31: saving model to model\\31-0.9492.hdf5\n",
      "\n",
      "Epoch 32: saving model to model\\32-0.9492.hdf5\n",
      "\n",
      "Epoch 33: saving model to model\\33-0.9546.hdf5\n",
      "\n",
      "Epoch 34: saving model to model\\34-0.9562.hdf5\n",
      "\n",
      "Epoch 35: saving model to model\\35-0.9592.hdf5\n",
      "\n",
      "Epoch 36: saving model to model\\36-0.9554.hdf5\n",
      "\n",
      "Epoch 37: saving model to model\\37-0.9592.hdf5\n",
      "\n",
      "Epoch 38: saving model to model\\38-0.9600.hdf5\n",
      "\n",
      "Epoch 39: saving model to model\\39-0.9692.hdf5\n",
      "\n",
      "Epoch 40: saving model to model\\40-0.9608.hdf5\n",
      "\n",
      "Epoch 41: saving model to model\\41-0.9623.hdf5\n",
      "\n",
      "Epoch 42: saving model to model\\42-0.9600.hdf5\n",
      "\n",
      "Epoch 43: saving model to model\\43-0.9754.hdf5\n",
      "\n",
      "Epoch 44: saving model to model\\44-0.9685.hdf5\n",
      "\n",
      "Epoch 45: saving model to model\\45-0.9715.hdf5\n",
      "\n",
      "Epoch 46: saving model to model\\46-0.9646.hdf5\n",
      "\n",
      "Epoch 47: saving model to model\\47-0.9700.hdf5\n",
      "\n",
      "Epoch 48: saving model to model\\48-0.9662.hdf5\n",
      "\n",
      "Epoch 49: saving model to model\\49-0.9731.hdf5\n",
      "\n",
      "Epoch 50: saving model to model\\50-0.9646.hdf5\n"
     ]
    }
   ],
   "source": [
    "MODEL_DIR = 'model/'\n",
    "\n",
    "if not os.path.exists(MODEL_DIR):\n",
    "    os.mkdir(MODEL_DIR)\n",
    "\n",
    "modelpath = MODEL_DIR + \"{epoch:02d}-{val_accuracy:.4f}.hdf5\"\n",
    "checkpoint = ModelCheckpoint(filepath=modelpath, verbose=1)\n",
    "\n",
    "history = model.fit(X_train, y_train, epochs=50, batch_size=500, validation_split=0.25, verbose=0, callbacks=[checkpoint])"
   ]
  },
  {
   "cell_type": "code",
   "execution_count": 9,
   "id": "ca8df90e-bcce-4399-adbf-b3dcd3d014fa",
   "metadata": {},
   "outputs": [
    {
     "name": "stdout",
     "output_type": "stream",
     "text": [
      "41/41 [==============================] - 0s 860us/step - loss: 0.1115 - accuracy: 0.9600\n",
      "Test Accuracy:  0.9599999785423279\n"
     ]
    }
   ],
   "source": [
    "score = model.evaluate(X_test, y_test)\n",
    "print('Test Accuracy: ', score[1])"
   ]
  },
  {
   "cell_type": "code",
   "execution_count": null,
   "id": "91d9e0ba-558e-4cce-b9a2-9f9ff39c8feb",
   "metadata": {},
   "outputs": [],
   "source": []
  }
 ],
 "metadata": {
  "kernelspec": {
   "display_name": "Python 3 (ipykernel)",
   "language": "python",
   "name": "python3"
  },
  "language_info": {
   "codemirror_mode": {
    "name": "ipython",
    "version": 3
   },
   "file_extension": ".py",
   "mimetype": "text/x-python",
   "name": "python",
   "nbconvert_exporter": "python",
   "pygments_lexer": "ipython3",
   "version": "3.9.18"
  }
 },
 "nbformat": 4,
 "nbformat_minor": 5
}
