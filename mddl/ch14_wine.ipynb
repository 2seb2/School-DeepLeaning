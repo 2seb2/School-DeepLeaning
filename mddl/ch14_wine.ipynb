{
 "cells": [
  {
   "cell_type": "code",
   "execution_count": 1,
   "id": "26190178-7fe8-4748-b5ae-d688e226b07a",
   "metadata": {},
   "outputs": [],
   "source": [
    "from tensorflow.keras import models, layers\n",
    "from sklearn.model_selection import train_test_split\n",
    "import pandas as pd"
   ]
  },
  {
   "cell_type": "code",
   "execution_count": 2,
   "id": "2715b422-c7db-47cc-88fb-cf83567f5c2b",
   "metadata": {},
   "outputs": [
    {
     "data": {
      "text/html": [
       "<div>\n",
       "<style scoped>\n",
       "    .dataframe tbody tr th:only-of-type {\n",
       "        vertical-align: middle;\n",
       "    }\n",
       "\n",
       "    .dataframe tbody tr th {\n",
       "        vertical-align: top;\n",
       "    }\n",
       "\n",
       "    .dataframe thead th {\n",
       "        text-align: right;\n",
       "    }\n",
       "</style>\n",
       "<table border=\"1\" class=\"dataframe\">\n",
       "  <thead>\n",
       "    <tr style=\"text-align: right;\">\n",
       "      <th></th>\n",
       "      <th>0</th>\n",
       "      <th>1</th>\n",
       "      <th>2</th>\n",
       "      <th>3</th>\n",
       "      <th>4</th>\n",
       "      <th>5</th>\n",
       "      <th>6</th>\n",
       "      <th>7</th>\n",
       "      <th>8</th>\n",
       "      <th>9</th>\n",
       "      <th>10</th>\n",
       "      <th>11</th>\n",
       "      <th>12</th>\n",
       "    </tr>\n",
       "  </thead>\n",
       "  <tbody>\n",
       "    <tr>\n",
       "      <th>0</th>\n",
       "      <td>7.4</td>\n",
       "      <td>0.70</td>\n",
       "      <td>0.00</td>\n",
       "      <td>1.9</td>\n",
       "      <td>0.076</td>\n",
       "      <td>11.0</td>\n",
       "      <td>34.0</td>\n",
       "      <td>0.9978</td>\n",
       "      <td>3.51</td>\n",
       "      <td>0.56</td>\n",
       "      <td>9.4</td>\n",
       "      <td>5</td>\n",
       "      <td>1</td>\n",
       "    </tr>\n",
       "    <tr>\n",
       "      <th>1</th>\n",
       "      <td>7.8</td>\n",
       "      <td>0.88</td>\n",
       "      <td>0.00</td>\n",
       "      <td>2.6</td>\n",
       "      <td>0.098</td>\n",
       "      <td>25.0</td>\n",
       "      <td>67.0</td>\n",
       "      <td>0.9968</td>\n",
       "      <td>3.20</td>\n",
       "      <td>0.68</td>\n",
       "      <td>9.8</td>\n",
       "      <td>5</td>\n",
       "      <td>1</td>\n",
       "    </tr>\n",
       "    <tr>\n",
       "      <th>2</th>\n",
       "      <td>7.8</td>\n",
       "      <td>0.76</td>\n",
       "      <td>0.04</td>\n",
       "      <td>2.3</td>\n",
       "      <td>0.092</td>\n",
       "      <td>15.0</td>\n",
       "      <td>54.0</td>\n",
       "      <td>0.9970</td>\n",
       "      <td>3.26</td>\n",
       "      <td>0.65</td>\n",
       "      <td>9.8</td>\n",
       "      <td>5</td>\n",
       "      <td>1</td>\n",
       "    </tr>\n",
       "    <tr>\n",
       "      <th>3</th>\n",
       "      <td>11.2</td>\n",
       "      <td>0.28</td>\n",
       "      <td>0.56</td>\n",
       "      <td>1.9</td>\n",
       "      <td>0.075</td>\n",
       "      <td>17.0</td>\n",
       "      <td>60.0</td>\n",
       "      <td>0.9980</td>\n",
       "      <td>3.16</td>\n",
       "      <td>0.58</td>\n",
       "      <td>9.8</td>\n",
       "      <td>6</td>\n",
       "      <td>1</td>\n",
       "    </tr>\n",
       "    <tr>\n",
       "      <th>4</th>\n",
       "      <td>7.4</td>\n",
       "      <td>0.70</td>\n",
       "      <td>0.00</td>\n",
       "      <td>1.9</td>\n",
       "      <td>0.076</td>\n",
       "      <td>11.0</td>\n",
       "      <td>34.0</td>\n",
       "      <td>0.9978</td>\n",
       "      <td>3.51</td>\n",
       "      <td>0.56</td>\n",
       "      <td>9.4</td>\n",
       "      <td>5</td>\n",
       "      <td>1</td>\n",
       "    </tr>\n",
       "  </tbody>\n",
       "</table>\n",
       "</div>"
      ],
      "text/plain": [
       "     0     1     2    3      4     5     6       7     8     9    10  11  12\n",
       "0   7.4  0.70  0.00  1.9  0.076  11.0  34.0  0.9978  3.51  0.56  9.4   5   1\n",
       "1   7.8  0.88  0.00  2.6  0.098  25.0  67.0  0.9968  3.20  0.68  9.8   5   1\n",
       "2   7.8  0.76  0.04  2.3  0.092  15.0  54.0  0.9970  3.26  0.65  9.8   5   1\n",
       "3  11.2  0.28  0.56  1.9  0.075  17.0  60.0  0.9980  3.16  0.58  9.8   6   1\n",
       "4   7.4  0.70  0.00  1.9  0.076  11.0  34.0  0.9978  3.51  0.56  9.4   5   1"
      ]
     },
     "execution_count": 2,
     "metadata": {},
     "output_type": "execute_result"
    }
   ],
   "source": [
    "df = pd.read_csv('data/wine.csv', header=None)\n",
    "df.head()"
   ]
  },
  {
   "cell_type": "code",
   "execution_count": 3,
   "id": "9fa79fc2-d42d-45a6-8287-124cfd4547e4",
   "metadata": {},
   "outputs": [
    {
     "name": "stdout",
     "output_type": "stream",
     "text": [
      "<class 'pandas.core.frame.DataFrame'>\n",
      "RangeIndex: 6497 entries, 0 to 6496\n",
      "Data columns (total 13 columns):\n",
      " #   Column  Non-Null Count  Dtype  \n",
      "---  ------  --------------  -----  \n",
      " 0   0       6497 non-null   float64\n",
      " 1   1       6497 non-null   float64\n",
      " 2   2       6497 non-null   float64\n",
      " 3   3       6497 non-null   float64\n",
      " 4   4       6497 non-null   float64\n",
      " 5   5       6497 non-null   float64\n",
      " 6   6       6497 non-null   float64\n",
      " 7   7       6497 non-null   float64\n",
      " 8   8       6497 non-null   float64\n",
      " 9   9       6497 non-null   float64\n",
      " 10  10      6497 non-null   float64\n",
      " 11  11      6497 non-null   int64  \n",
      " 12  12      6497 non-null   int64  \n",
      "dtypes: float64(11), int64(2)\n",
      "memory usage: 660.0 KB\n"
     ]
    }
   ],
   "source": [
    "df.info()"
   ]
  },
  {
   "cell_type": "code",
   "execution_count": 4,
   "id": "915be9c5-f35c-48fa-8a39-9a56cfed99d1",
   "metadata": {},
   "outputs": [],
   "source": [
    "X = df.iloc[:, :12]\n",
    "y = df.iloc[:, 12]"
   ]
  },
  {
   "cell_type": "code",
   "execution_count": 6,
   "id": "f06fef13-e681-479c-a2f1-7128d09c1d80",
   "metadata": {},
   "outputs": [],
   "source": [
    "X_train, X_test, y_train, y_test = train_test_split(X, y, test_size=0.2, shuffle=True)\n",
    "\n",
    "model = models.Sequential()\n",
    "model.add(layers.Dense(30, input_dim=12, activation='relu'))\n",
    "model.add(layers.Dense(12, activation='relu'))\n",
    "model.add(layers.Dense(8, activation='relu'))\n",
    "model.add(layers.Dense(1, activation='sigmoid'))"
   ]
  },
  {
   "cell_type": "code",
   "execution_count": 7,
   "id": "90bb1023-5182-43fe-a2a4-23abfedd3894",
   "metadata": {},
   "outputs": [
    {
     "name": "stdout",
     "output_type": "stream",
     "text": [
      "Model: \"sequential\"\n",
      "_________________________________________________________________\n",
      " Layer (type)                Output Shape              Param #   \n",
      "=================================================================\n",
      " dense (Dense)               (None, 30)                390       \n",
      "                                                                 \n",
      " dense_1 (Dense)             (None, 12)                372       \n",
      "                                                                 \n",
      " dense_2 (Dense)             (None, 8)                 104       \n",
      "                                                                 \n",
      " dense_3 (Dense)             (None, 1)                 9         \n",
      "                                                                 \n",
      "=================================================================\n",
      "Total params: 875\n",
      "Trainable params: 875\n",
      "Non-trainable params: 0\n",
      "_________________________________________________________________\n"
     ]
    }
   ],
   "source": [
    "model.summary()"
   ]
  },
  {
   "cell_type": "code",
   "execution_count": 8,
   "id": "d9334276-2baf-43b8-9389-ba204c85c6d5",
   "metadata": {},
   "outputs": [],
   "source": [
    "model.compile(loss='binary_crossentropy', optimizer='adam', metrics=['accuracy'])"
   ]
  },
  {
   "cell_type": "code",
   "execution_count": 9,
   "id": "983c77bb-8f75-4359-ab10-ddcc9694a0e2",
   "metadata": {
    "scrolled": true
   },
   "outputs": [
    {
     "name": "stdout",
     "output_type": "stream",
     "text": [
      "Epoch 1/50\n",
      "11/11 [==============================] - 0s 1ms/step - loss: 0.4290 - accuracy: 0.7760\n",
      "Epoch 2/50\n",
      "11/11 [==============================] - 0s 1ms/step - loss: 0.3067 - accuracy: 0.8640\n",
      "Epoch 3/50\n",
      "11/11 [==============================] - 0s 1ms/step - loss: 0.2572 - accuracy: 0.9123\n",
      "Epoch 4/50\n",
      "11/11 [==============================] - 0s 1ms/step - loss: 0.2253 - accuracy: 0.9209\n",
      "Epoch 5/50\n",
      "11/11 [==============================] - 0s 1ms/step - loss: 0.2053 - accuracy: 0.9325\n",
      "Epoch 6/50\n",
      "11/11 [==============================] - 0s 1ms/step - loss: 0.1976 - accuracy: 0.9342\n",
      "Epoch 7/50\n",
      "11/11 [==============================] - 0s 1ms/step - loss: 0.1934 - accuracy: 0.9359\n",
      "Epoch 8/50\n",
      "11/11 [==============================] - 0s 1ms/step - loss: 0.1905 - accuracy: 0.9357\n",
      "Epoch 9/50\n",
      "11/11 [==============================] - 0s 1ms/step - loss: 0.1875 - accuracy: 0.9369\n",
      "Epoch 10/50\n",
      "11/11 [==============================] - 0s 1ms/step - loss: 0.1846 - accuracy: 0.9359\n",
      "Epoch 11/50\n",
      "11/11 [==============================] - 0s 1ms/step - loss: 0.1838 - accuracy: 0.9363\n",
      "Epoch 12/50\n",
      "11/11 [==============================] - 0s 1ms/step - loss: 0.1797 - accuracy: 0.9377\n",
      "Epoch 13/50\n",
      "11/11 [==============================] - 0s 1ms/step - loss: 0.1779 - accuracy: 0.9398\n",
      "Epoch 14/50\n",
      "11/11 [==============================] - 0s 1ms/step - loss: 0.1756 - accuracy: 0.9394\n",
      "Epoch 15/50\n",
      "11/11 [==============================] - 0s 1ms/step - loss: 0.1735 - accuracy: 0.9386\n",
      "Epoch 16/50\n",
      "11/11 [==============================] - 0s 1ms/step - loss: 0.1705 - accuracy: 0.9413\n",
      "Epoch 17/50\n",
      "11/11 [==============================] - 0s 1ms/step - loss: 0.1688 - accuracy: 0.9407\n",
      "Epoch 18/50\n",
      "11/11 [==============================] - 0s 1ms/step - loss: 0.1648 - accuracy: 0.9429\n",
      "Epoch 19/50\n",
      "11/11 [==============================] - 0s 1ms/step - loss: 0.1613 - accuracy: 0.9430\n",
      "Epoch 20/50\n",
      "11/11 [==============================] - 0s 1ms/step - loss: 0.1581 - accuracy: 0.9450\n",
      "Epoch 21/50\n",
      "11/11 [==============================] - 0s 1ms/step - loss: 0.1554 - accuracy: 0.9459\n",
      "Epoch 22/50\n",
      "11/11 [==============================] - 0s 1ms/step - loss: 0.1529 - accuracy: 0.9459\n",
      "Epoch 23/50\n",
      "11/11 [==============================] - 0s 1ms/step - loss: 0.1496 - accuracy: 0.9459\n",
      "Epoch 24/50\n",
      "11/11 [==============================] - 0s 2ms/step - loss: 0.1459 - accuracy: 0.9471\n",
      "Epoch 25/50\n",
      "11/11 [==============================] - 0s 1ms/step - loss: 0.1434 - accuracy: 0.9480\n",
      "Epoch 26/50\n",
      "11/11 [==============================] - 0s 1ms/step - loss: 0.1422 - accuracy: 0.9465\n",
      "Epoch 27/50\n",
      "11/11 [==============================] - 0s 1ms/step - loss: 0.1378 - accuracy: 0.9504\n",
      "Epoch 28/50\n",
      "11/11 [==============================] - 0s 1ms/step - loss: 0.1368 - accuracy: 0.9502\n",
      "Epoch 29/50\n",
      "11/11 [==============================] - 0s 1ms/step - loss: 0.1349 - accuracy: 0.9496\n",
      "Epoch 30/50\n",
      "11/11 [==============================] - 0s 1ms/step - loss: 0.1323 - accuracy: 0.9527\n",
      "Epoch 31/50\n",
      "11/11 [==============================] - 0s 1ms/step - loss: 0.1295 - accuracy: 0.9505\n",
      "Epoch 32/50\n",
      "11/11 [==============================] - 0s 1ms/step - loss: 0.1276 - accuracy: 0.9509\n",
      "Epoch 33/50\n",
      "11/11 [==============================] - 0s 2ms/step - loss: 0.1293 - accuracy: 0.9532\n",
      "Epoch 34/50\n",
      "11/11 [==============================] - 0s 2ms/step - loss: 0.1224 - accuracy: 0.9530\n",
      "Epoch 35/50\n",
      "11/11 [==============================] - 0s 1ms/step - loss: 0.1226 - accuracy: 0.9552\n",
      "Epoch 36/50\n",
      "11/11 [==============================] - 0s 1ms/step - loss: 0.1220 - accuracy: 0.9554\n",
      "Epoch 37/50\n",
      "11/11 [==============================] - 0s 1ms/step - loss: 0.1223 - accuracy: 0.9542\n",
      "Epoch 38/50\n",
      "11/11 [==============================] - 0s 1ms/step - loss: 0.1177 - accuracy: 0.9579\n",
      "Epoch 39/50\n",
      "11/11 [==============================] - 0s 1ms/step - loss: 0.1153 - accuracy: 0.9588\n",
      "Epoch 40/50\n",
      "11/11 [==============================] - 0s 1ms/step - loss: 0.1140 - accuracy: 0.9582\n",
      "Epoch 41/50\n",
      "11/11 [==============================] - 0s 1ms/step - loss: 0.1107 - accuracy: 0.9606\n",
      "Epoch 42/50\n",
      "11/11 [==============================] - 0s 1ms/step - loss: 0.1097 - accuracy: 0.9619\n",
      "Epoch 43/50\n",
      "11/11 [==============================] - 0s 1ms/step - loss: 0.1081 - accuracy: 0.9619\n",
      "Epoch 44/50\n",
      "11/11 [==============================] - 0s 1ms/step - loss: 0.1092 - accuracy: 0.9615\n",
      "Epoch 45/50\n",
      "11/11 [==============================] - 0s 1ms/step - loss: 0.1064 - accuracy: 0.9629\n",
      "Epoch 46/50\n",
      "11/11 [==============================] - 0s 1ms/step - loss: 0.1041 - accuracy: 0.9636\n",
      "Epoch 47/50\n",
      "11/11 [==============================] - 0s 1ms/step - loss: 0.1040 - accuracy: 0.9652\n",
      "Epoch 48/50\n",
      "11/11 [==============================] - 0s 2ms/step - loss: 0.1025 - accuracy: 0.9657\n",
      "Epoch 49/50\n",
      "11/11 [==============================] - 0s 1ms/step - loss: 0.1036 - accuracy: 0.9656\n",
      "Epoch 50/50\n",
      "11/11 [==============================] - 0s 1ms/step - loss: 0.1028 - accuracy: 0.9646\n"
     ]
    }
   ],
   "source": [
    "history = model.fit(X_train, y_train, epochs=50, batch_size=500, validation_split=0.25)"
   ]
  },
  {
   "cell_type": "code",
   "execution_count": 11,
   "id": "7766f1c5-ddff-4657-9c9d-e8444d597e10",
   "metadata": {},
   "outputs": [
    {
     "name": "stdout",
     "output_type": "stream",
     "text": [
      "41/41 [==============================] - 0s 997us/step - loss: 0.1063 - accuracy: 0.9738\n",
      "Test Accuracy:  0.9738461375236511\n"
     ]
    }
   ],
   "source": [
    "score = model.evaluate(X_test, y_test)\n",
    "print('Test Accuracy: ', score[1])"
   ]
  },
  {
   "cell_type": "code",
   "execution_count": null,
   "id": "a23eb437-d701-42ab-9dc6-57994c992d73",
   "metadata": {},
   "outputs": [],
   "source": []
  },
  {
   "cell_type": "code",
   "execution_count": null,
   "id": "0b661335-f2fb-4914-8775-d288c0c62bd3",
   "metadata": {},
   "outputs": [],
   "source": []
  },
  {
   "cell_type": "code",
   "execution_count": null,
   "id": "d224600c-77a3-47cf-a20c-2a410784a3f7",
   "metadata": {},
   "outputs": [],
   "source": []
  }
 ],
 "metadata": {
  "kernelspec": {
   "display_name": "Python 3 (ipykernel)",
   "language": "python",
   "name": "python3"
  },
  "language_info": {
   "codemirror_mode": {
    "name": "ipython",
    "version": 3
   },
   "file_extension": ".py",
   "mimetype": "text/x-python",
   "name": "python",
   "nbconvert_exporter": "python",
   "pygments_lexer": "ipython3",
   "version": "3.9.18"
  }
 },
 "nbformat": 4,
 "nbformat_minor": 5
}
