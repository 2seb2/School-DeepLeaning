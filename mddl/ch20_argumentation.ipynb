{
 "cells": [
  {
   "cell_type": "code",
   "execution_count": 1,
   "id": "0ae793fe-bfd0-4f7d-a5bc-b7028fbeba6d",
   "metadata": {},
   "outputs": [],
   "source": [
    "from tensorflow.keras import models, layers, optimizers\n",
    "from tensorflow.keras.preprocessing.image import ImageDataGenerator\n",
    "from tensorflow.keras.callbacks import EarlyStopping\n",
    "import numpy as np\n",
    "import matplotlib.pyplot as plt\n",
    "import os\n",
    "os.environ['KMP_DUPLICATE_LIB_OK'] = '1'"
   ]
  },
  {
   "cell_type": "code",
   "execution_count": 2,
   "id": "76eb4782-fbac-4a26-a92c-bf395ba48a45",
   "metadata": {},
   "outputs": [
    {
     "name": "stdout",
     "output_type": "stream",
     "text": [
      "Found 160 images belonging to 2 classes.\n"
     ]
    }
   ],
   "source": [
    "train_datagen = ImageDataGenerator(rescale=1./255,\n",
    "                                   horizontal_flip=True,\n",
    "                                   width_shift_range=0.1,\n",
    "                                   height_shift_range=0.1)\n",
    "train_generator = train_datagen.flow_from_directory('data/train',\n",
    "                                                    target_size=(150, 150), \n",
    "                                                    batch_size=5,\n",
    "                                                    class_mode='binary')"
   ]
  },
  {
   "cell_type": "code",
   "execution_count": 3,
   "id": "1f883c9e-9468-4341-98ab-c6512fbb699e",
   "metadata": {},
   "outputs": [
    {
     "name": "stdout",
     "output_type": "stream",
     "text": [
      "Found 120 images belonging to 2 classes.\n"
     ]
    }
   ],
   "source": [
    "test_datagen = ImageDataGenerator(rescale=1./255,\n",
    "                                   horizontal_flip=True,\n",
    "                                   width_shift_range=0.1,\n",
    "                                   height_shift_range=0.1)\n",
    "test_generator = test_datagen.flow_from_directory('data/test',\n",
    "                                                    target_size=(150, 150), \n",
    "                                                    batch_size=5,\n",
    "                                                    class_mode='binary')"
   ]
  },
  {
   "cell_type": "code",
   "execution_count": 4,
   "id": "74336cad-b8a1-436a-9b95-ee2bcfc1a822",
   "metadata": {},
   "outputs": [
    {
     "name": "stdout",
     "output_type": "stream",
     "text": [
      "Model: \"sequential\"\n",
      "_________________________________________________________________\n",
      " Layer (type)                Output Shape              Param #   \n",
      "=================================================================\n",
      " conv2d (Conv2D)             (None, 148, 148, 32)      896       \n",
      "                                                                 \n",
      " max_pooling2d (MaxPooling2D  (None, 74, 74, 32)       0         \n",
      " )                                                               \n",
      "                                                                 \n",
      " conv2d_1 (Conv2D)           (None, 72, 72, 32)        9248      \n",
      "                                                                 \n",
      " max_pooling2d_1 (MaxPooling  (None, 36, 36, 32)       0         \n",
      " 2D)                                                             \n",
      "                                                                 \n",
      " conv2d_2 (Conv2D)           (None, 34, 34, 64)        18496     \n",
      "                                                                 \n",
      " max_pooling2d_2 (MaxPooling  (None, 17, 17, 64)       0         \n",
      " 2D)                                                             \n",
      "                                                                 \n",
      " flatten (Flatten)           (None, 18496)             0         \n",
      "                                                                 \n",
      " dense (Dense)               (None, 64)                1183808   \n",
      "                                                                 \n",
      " dropout (Dropout)           (None, 64)                0         \n",
      "                                                                 \n",
      " dense_1 (Dense)             (None, 1)                 65        \n",
      "                                                                 \n",
      "=================================================================\n",
      "Total params: 1,212,513\n",
      "Trainable params: 1,212,513\n",
      "Non-trainable params: 0\n",
      "_________________________________________________________________\n"
     ]
    }
   ],
   "source": [
    "model = models.Sequential()\n",
    "model.add(layers.Conv2D(32, 3, input_shape=(150, 150, 3), activation='relu'))\n",
    "model.add(layers.MaxPooling2D(pool_size=(2, 2)))\n",
    "\n",
    "model.add(layers.Conv2D(32, 3, activation='relu'))\n",
    "model.add(layers.MaxPooling2D(pool_size=(2, 2)))\n",
    "\n",
    "model.add(layers.Conv2D(64, 3, activation='relu'))\n",
    "model.add(layers.MaxPooling2D(pool_size=(2, 2)))\n",
    "\n",
    "model.add(layers.Flatten())\n",
    "model.add(layers.Dense(64, activation='relu'))\n",
    "model.add(layers.Dropout(0.5))\n",
    "model.add(layers.Dense(1, activation='sigmoid'))\n",
    "\n",
    "model.summary()"
   ]
  },
  {
   "cell_type": "code",
   "execution_count": 5,
   "id": "73a9e7d9-2d3c-4dfa-aff7-1739d98f8fe5",
   "metadata": {},
   "outputs": [],
   "source": [
    "model.compile(loss='binary_crossentropy', \n",
    "              optimizer=optimizers.Adam(learning_rate=0.0002), \n",
    "              metrics=['accuracy'])\n",
    "early_stopping = EarlyStopping(monitor='val_loss', patience=5)"
   ]
  },
  {
   "cell_type": "code",
   "execution_count": 6,
   "id": "c4d84e4d-650f-422f-b9f5-9b092e840170",
   "metadata": {},
   "outputs": [
    {
     "name": "stdout",
     "output_type": "stream",
     "text": [
      "Epoch 1/100\n",
      "32/32 [==============================] - 21s 620ms/step - loss: 0.7180 - accuracy: 0.4500 - val_loss: 0.6907 - val_accuracy: 0.5000\n",
      "Epoch 2/100\n",
      "32/32 [==============================] - 21s 646ms/step - loss: 0.6896 - accuracy: 0.5188 - val_loss: 0.6877 - val_accuracy: 0.5000\n",
      "Epoch 3/100\n",
      "32/32 [==============================] - 21s 672ms/step - loss: 0.6884 - accuracy: 0.5188 - val_loss: 0.6818 - val_accuracy: 0.5750\n",
      "Epoch 4/100\n",
      "32/32 [==============================] - 19s 586ms/step - loss: 0.6857 - accuracy: 0.5938 - val_loss: 0.6757 - val_accuracy: 0.5167\n",
      "Epoch 5/100\n",
      "32/32 [==============================] - 20s 617ms/step - loss: 0.6684 - accuracy: 0.5437 - val_loss: 0.6762 - val_accuracy: 0.6167\n",
      "Epoch 6/100\n",
      "32/32 [==============================] - 21s 664ms/step - loss: 0.6675 - accuracy: 0.6250 - val_loss: 0.6597 - val_accuracy: 0.5333\n",
      "Epoch 7/100\n",
      "32/32 [==============================] - 19s 589ms/step - loss: 0.6461 - accuracy: 0.6625 - val_loss: 0.6676 - val_accuracy: 0.5833\n",
      "Epoch 8/100\n",
      "32/32 [==============================] - 19s 609ms/step - loss: 0.6350 - accuracy: 0.6187 - val_loss: 0.6013 - val_accuracy: 0.7417\n",
      "Epoch 9/100\n",
      "32/32 [==============================] - 20s 636ms/step - loss: 0.5705 - accuracy: 0.7312 - val_loss: 0.6260 - val_accuracy: 0.5917\n",
      "Epoch 10/100\n",
      "32/32 [==============================] - 19s 599ms/step - loss: 0.5813 - accuracy: 0.7125 - val_loss: 0.5986 - val_accuracy: 0.6583\n",
      "Epoch 11/100\n",
      "32/32 [==============================] - 21s 647ms/step - loss: 0.4906 - accuracy: 0.7563 - val_loss: 0.4505 - val_accuracy: 0.8417\n",
      "Epoch 12/100\n",
      "32/32 [==============================] - 20s 609ms/step - loss: 0.4358 - accuracy: 0.8625 - val_loss: 0.3852 - val_accuracy: 0.8667\n",
      "Epoch 13/100\n",
      "32/32 [==============================] - 19s 586ms/step - loss: 0.4193 - accuracy: 0.8188 - val_loss: 0.3788 - val_accuracy: 0.8833\n",
      "Epoch 14/100\n",
      "32/32 [==============================] - 20s 621ms/step - loss: 0.4172 - accuracy: 0.8313 - val_loss: 0.3263 - val_accuracy: 0.8917\n",
      "Epoch 15/100\n",
      "32/32 [==============================] - 21s 654ms/step - loss: 0.3627 - accuracy: 0.8813 - val_loss: 0.3337 - val_accuracy: 0.8917\n",
      "Epoch 16/100\n",
      "32/32 [==============================] - 19s 591ms/step - loss: 0.2909 - accuracy: 0.9187 - val_loss: 0.2484 - val_accuracy: 0.9333\n",
      "Epoch 17/100\n",
      "32/32 [==============================] - 18s 563ms/step - loss: 0.2839 - accuracy: 0.8813 - val_loss: 0.2215 - val_accuracy: 0.9250\n",
      "Epoch 18/100\n",
      "32/32 [==============================] - 19s 591ms/step - loss: 0.2428 - accuracy: 0.9438 - val_loss: 0.3621 - val_accuracy: 0.8167\n",
      "Epoch 19/100\n",
      "32/32 [==============================] - 19s 601ms/step - loss: 0.2367 - accuracy: 0.9312 - val_loss: 0.2031 - val_accuracy: 0.9500\n",
      "Epoch 20/100\n",
      "32/32 [==============================] - 21s 658ms/step - loss: 0.2378 - accuracy: 0.9062 - val_loss: 0.1707 - val_accuracy: 0.9500\n",
      "Epoch 21/100\n",
      "32/32 [==============================] - 20s 611ms/step - loss: 0.2194 - accuracy: 0.9375 - val_loss: 0.2444 - val_accuracy: 0.8917\n",
      "Epoch 22/100\n",
      "32/32 [==============================] - 20s 635ms/step - loss: 0.1645 - accuracy: 0.9500 - val_loss: 0.1368 - val_accuracy: 0.9500\n",
      "Epoch 23/100\n",
      "32/32 [==============================] - 19s 593ms/step - loss: 0.1906 - accuracy: 0.9375 - val_loss: 0.1377 - val_accuracy: 0.9583\n",
      "Epoch 24/100\n",
      "32/32 [==============================] - 20s 634ms/step - loss: 0.1458 - accuracy: 0.9438 - val_loss: 0.1170 - val_accuracy: 0.9750\n",
      "Epoch 25/100\n",
      "32/32 [==============================] - 18s 574ms/step - loss: 0.1770 - accuracy: 0.9375 - val_loss: 0.1681 - val_accuracy: 0.9417\n",
      "Epoch 26/100\n",
      "32/32 [==============================] - 19s 578ms/step - loss: 0.1259 - accuracy: 0.9688 - val_loss: 0.1084 - val_accuracy: 0.9750\n",
      "Epoch 27/100\n",
      "32/32 [==============================] - 18s 575ms/step - loss: 0.1309 - accuracy: 0.9688 - val_loss: 0.1792 - val_accuracy: 0.9083\n",
      "Epoch 28/100\n",
      "32/32 [==============================] - 19s 592ms/step - loss: 0.1310 - accuracy: 0.9438 - val_loss: 0.1703 - val_accuracy: 0.9167\n",
      "Epoch 29/100\n",
      "32/32 [==============================] - 20s 607ms/step - loss: 0.0942 - accuracy: 0.9750 - val_loss: 0.0879 - val_accuracy: 0.9750\n",
      "Epoch 30/100\n",
      "32/32 [==============================] - 21s 644ms/step - loss: 0.1404 - accuracy: 0.9375 - val_loss: 0.1287 - val_accuracy: 0.9500\n",
      "Epoch 31/100\n",
      "32/32 [==============================] - 20s 612ms/step - loss: 0.1012 - accuracy: 0.9812 - val_loss: 0.0973 - val_accuracy: 0.9583\n",
      "Epoch 32/100\n",
      "32/32 [==============================] - 21s 650ms/step - loss: 0.1385 - accuracy: 0.9438 - val_loss: 0.1139 - val_accuracy: 0.9417\n",
      "Epoch 33/100\n",
      "32/32 [==============================] - 23s 718ms/step - loss: 0.1142 - accuracy: 0.9812 - val_loss: 0.1237 - val_accuracy: 0.9333\n",
      "Epoch 34/100\n",
      "32/32 [==============================] - 21s 658ms/step - loss: 0.1040 - accuracy: 0.9625 - val_loss: 0.1503 - val_accuracy: 0.9167\n"
     ]
    }
   ],
   "source": [
    "history = model.fit(train_generator, epochs=100,\n",
    "                    validation_data=test_generator, callbacks=[early_stopping])"
   ]
  },
  {
   "cell_type": "code",
   "execution_count": 7,
   "id": "936ee62b-5a2d-4750-bbd8-fd8f33f98a31",
   "metadata": {},
   "outputs": [
    {
     "data": {
      "image/png": "[encoded data removed]",
      "text/plain": [
       "<Figure size 640x480 with 1 Axes>"
      ]
     },
     "metadata": {},
     "output_type": "display_data"
    }
   ],
   "source": [
    "y_vloss = history.history['val_loss']\n",
    "y_loss = history.history['loss']\n",
    "\n",
    "# 그래프로 표현해 봅니다.\n",
    "x_len = np.arange(len(y_loss))\n",
    "plt.plot(x_len, y_vloss, marker='.', c=\"red\", label='Testset_loss')\n",
    "plt.plot(x_len, y_loss, marker='.', c=\"blue\", label='Trainset_loss')\n",
    "\n",
    "# 그래프에 그리드를 주고 레이블을 표시하겠습니다.\n",
    "plt.legend(loc='upper right')\n",
    "plt.grid()\n",
    "plt.xlabel('epoch')\n",
    "plt.ylabel('loss')\n",
    "plt.show()"
   ]
  },
  {
   "cell_type": "code",
   "execution_count": null,
   "id": "4f6c3899-de9f-4e9b-8112-14c4a12f8768",
   "metadata": {},
   "outputs": [],
   "source": []
  }
 ],
 "metadata": {
  "kernelspec": {
   "display_name": "Python 3 (ipykernel)",
   "language": "python",
   "name": "python3"
  },
  "language_info": {
   "codemirror_mode": {
    "name": "ipython",
    "version": 3
   },
   "file_extension": ".py",
   "mimetype": "text/x-python",
   "name": "python",
   "nbconvert_exporter": "python",
   "pygments_lexer": "ipython3",
   "version": "3.9.18"
  }
 },
 "nbformat": 4,
 "nbformat_minor": 5
}
