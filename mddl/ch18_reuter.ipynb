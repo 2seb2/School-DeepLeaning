{
 "cells": [
  {
   "cell_type": "code",
   "execution_count": 1,
   "id": "0a4a2938-b0f8-4ba2-903f-e1b98cef1a89",
   "metadata": {},
   "outputs": [],
   "source": [
    "from tensorflow.keras import models, layers\n",
    "from tensorflow.keras.utils import to_categorical\n",
    "from tensorflow.keras.preprocessing import sequence\n",
    "from tensorflow.keras.datasets import reuters  # 로이터 뉴스 데이터 로딩\n",
    "from tensorflow.keras.callbacks import EarlyStopping\n",
    "\n",
    "import numpy as np\n",
    "import matplotlib.pyplot as plt\n",
    "import os\n",
    "\n",
    "os.environ['KMP_DUPLICATE_LIB_OK'] = '1'"
   ]
  },
  {
   "cell_type": "code",
   "execution_count": 2,
   "id": "fffda86f-279b-40a0-802c-ec63a394135d",
   "metadata": {},
   "outputs": [],
   "source": [
    "(X_train, y_train), (X_test, y_test) = reuters.load_data(num_words=1000, test_split=0.2)\n"
   ]
  },
  {
   "cell_type": "code",
   "execution_count": 3,
   "id": "5758e51d-a2d3-40ac-aeb4-5251d35a5ae5",
   "metadata": {},
   "outputs": [
    {
     "name": "stdout",
     "output_type": "stream",
     "text": [
      "46 카테고리\n",
      "8982 학습용 뉴스 기사\n",
      "2246 테스트용 뉴스 기사\n"
     ]
    }
   ],
   "source": [
    "category = np.max(y_train) + 1\n",
    "print(category, '카테고리')\n",
    "print(len(X_train), '학습용 뉴스 기사')\n",
    "print(len(X_test), '테스트용 뉴스 기사')\n"
   ]
  },
  {
   "cell_type": "code",
   "execution_count": 4,
   "id": "b7002381-8d31-409b-b389-4e44f1a6fffd",
   "metadata": {},
   "outputs": [
    {
     "data": {
      "text/plain": [
       "3"
      ]
     },
     "execution_count": 4,
     "metadata": {},
     "output_type": "execute_result"
    }
   ],
   "source": [
    "y_train[0]"
   ]
  },
  {
   "cell_type": "code",
   "execution_count": 5,
   "id": "1bc2ac28-5478-4d0c-914c-40a0364f714d",
   "metadata": {},
   "outputs": [
    {
     "name": "stdout",
     "output_type": "stream",
     "text": [
      "[1, 2, 2, 8, 43, 10, 447, 5, 25, 207, 270, 5, 2, 111, 16, 369, 186, 90, 67, 7, 89, 5, 19, 102, 6, 19, 124, 15, 90, 67, 84, 22, 482, 26, 7, 48, 4, 49, 8, 864, 39, 209, 154, 6, 151, 6, 83, 11, 15, 22, 155, 11, 15, 7, 48, 9, 2, 2, 504, 6, 258, 6, 272, 11, 15, 22, 134, 44, 11, 15, 16, 8, 197, 2, 90, 67, 52, 29, 209, 30, 32, 132, 6, 109, 15, 17, 12]\n"
     ]
    }
   ],
   "source": [
    "print(X_train[0])"
   ]
  },
  {
   "cell_type": "code",
   "execution_count": 6,
   "id": "b1781f48-970f-46f8-ac88-b899e3cb4947",
   "metadata": {},
   "outputs": [],
   "source": [
    "x_train = sequence.pad_sequences(X_train, maxlen=100)\n",
    "x_test = sequence.pad_sequences(X_test, maxlen=100)\n",
    "\n",
    "y_train = to_categorical(y_train)\n",
    "y_test = to_categorical(y_test)\n",
    "\n",
    "model = models.Sequential()\n",
    "model.add(layers.Embedding(1000, 100))\n",
    "model.add(layers.LSTM(100, activation='tanh'))\n",
    "model.add(layers.Dense(46, activation='softmax'))\n"
   ]
  },
  {
   "cell_type": "code",
   "execution_count": 7,
   "id": "4b6a5c78-1441-407c-a38e-b016bedf7549",
   "metadata": {},
   "outputs": [
    {
     "name": "stdout",
     "output_type": "stream",
     "text": [
      "Model: \"sequential\"\n",
      "_________________________________________________________________\n",
      " Layer (type)                Output Shape              Param #   \n",
      "=================================================================\n",
      " embedding (Embedding)       (None, None, 100)         100000    \n",
      "                                                                 \n",
      " lstm (LSTM)                 (None, 100)               80400     \n",
      "                                                                 \n",
      " dense (Dense)               (None, 46)                4646      \n",
      "                                                                 \n",
      "=================================================================\n",
      "Total params: 185,046\n",
      "Trainable params: 185,046\n",
      "Non-trainable params: 0\n",
      "_________________________________________________________________\n"
     ]
    }
   ],
   "source": [
    "model.summary()"
   ]
  },
  {
   "cell_type": "code",
   "execution_count": 8,
   "id": "b0f6c5d1-3187-4f51-9d21-a6871f9f7800",
   "metadata": {},
   "outputs": [],
   "source": [
    "model.compile(loss='categorical_crossentropy', optimizer='adam', metrics=['accuracy'])\n",
    "\n",
    "early_stopping = EarlyStopping(monitor='val_loss', patience=5)\n"
   ]
  },
  {
   "cell_type": "code",
   "execution_count": 9,
   "id": "f454d3ea-8189-4d92-ae43-071d2414bd10",
   "metadata": {},
   "outputs": [
    {
     "name": "stdout",
     "output_type": "stream",
     "text": [
      "Epoch 1/200\n",
      "450/450 [==============================] - 22s 45ms/step - loss: 2.2652 - accuracy: 0.4212 - val_loss: 1.9107 - val_accuracy: 0.5098\n",
      "Epoch 2/200\n",
      "450/450 [==============================] - 20s 44ms/step - loss: 1.7966 - accuracy: 0.5484 - val_loss: 1.9650 - val_accuracy: 0.5120\n",
      "Epoch 3/200\n",
      "450/450 [==============================] - 20s 44ms/step - loss: 1.7752 - accuracy: 0.5531 - val_loss: 2.0626 - val_accuracy: 0.5093\n",
      "Epoch 4/200\n",
      "450/450 [==============================] - 20s 44ms/step - loss: 1.6989 - accuracy: 0.5746 - val_loss: 1.6513 - val_accuracy: 0.5899\n",
      "Epoch 5/200\n",
      "450/450 [==============================] - 20s 44ms/step - loss: 1.5416 - accuracy: 0.6114 - val_loss: 1.5534 - val_accuracy: 0.6180\n",
      "Epoch 6/200\n",
      "450/450 [==============================] - 20s 44ms/step - loss: 1.4397 - accuracy: 0.6383 - val_loss: 1.4888 - val_accuracy: 0.6296\n",
      "Epoch 7/200\n",
      "450/450 [==============================] - 20s 44ms/step - loss: 1.3380 - accuracy: 0.6632 - val_loss: 1.3894 - val_accuracy: 0.6558\n",
      "Epoch 8/200\n",
      "450/450 [==============================] - 20s 44ms/step - loss: 1.2213 - accuracy: 0.6938 - val_loss: 1.2921 - val_accuracy: 0.6736\n",
      "Epoch 9/200\n",
      "450/450 [==============================] - 20s 45ms/step - loss: 1.1127 - accuracy: 0.7170 - val_loss: 1.2384 - val_accuracy: 0.6857\n",
      "Epoch 10/200\n",
      "450/450 [==============================] - 20s 44ms/step - loss: 1.0256 - accuracy: 0.7339 - val_loss: 1.2077 - val_accuracy: 0.7035\n",
      "Epoch 11/200\n",
      "450/450 [==============================] - 20s 44ms/step - loss: 0.9552 - accuracy: 0.7550 - val_loss: 1.2000 - val_accuracy: 0.7026\n",
      "Epoch 12/200\n",
      "450/450 [==============================] - 20s 45ms/step - loss: 0.8888 - accuracy: 0.7727 - val_loss: 1.1600 - val_accuracy: 0.7084\n",
      "Epoch 13/200\n",
      "450/450 [==============================] - 20s 44ms/step - loss: 0.8247 - accuracy: 0.7885 - val_loss: 1.1702 - val_accuracy: 0.7102\n",
      "Epoch 14/200\n",
      "450/450 [==============================] - 20s 44ms/step - loss: 0.7705 - accuracy: 0.8014 - val_loss: 1.1643 - val_accuracy: 0.7084\n",
      "Epoch 15/200\n",
      "450/450 [==============================] - 20s 44ms/step - loss: 0.7142 - accuracy: 0.8133 - val_loss: 1.1987 - val_accuracy: 0.6995\n",
      "Epoch 16/200\n",
      "450/450 [==============================] - 20s 45ms/step - loss: 0.6598 - accuracy: 0.8253 - val_loss: 1.2008 - val_accuracy: 0.7088\n",
      "Epoch 17/200\n",
      "450/450 [==============================] - 20s 44ms/step - loss: 0.6161 - accuracy: 0.8438 - val_loss: 1.2297 - val_accuracy: 0.7053\n",
      "71/71 [==============================] - 1s 15ms/step - loss: 1.2297 - accuracy: 0.7053\n",
      "\n",
      " Test Accuracy: 0.7053\n"
     ]
    }
   ],
   "source": [
    "# 'x_train'과 'y_train'을 사용하여 모델 훈련\n",
    "history = model.fit(x_train, y_train, batch_size=20, epochs=200,\n",
    "                    validation_data=(x_test, y_test), callbacks=[early_stopping])\n",
    "\n",
    "print('\\n Test Accuracy: %.4f' % (model.evaluate(x_test, y_test)[1]))"
   ]
  },
  {
   "cell_type": "code",
   "execution_count": 10,
   "id": "dda625dd-d9c8-4faf-809b-7da199a6d3c7",
   "metadata": {},
   "outputs": [
    {
     "data": {
      "image/png": "[encoded data removed]",
      "text/plain": [
       "<Figure size 640x480 with 1 Axes>"
      ]
     },
     "metadata": {},
     "output_type": "display_data"
    }
   ],
   "source": [
    "y_vloss = history.history['val_loss']\n",
    "y_loss = history.history['loss']\n",
    "\n",
    "# 그래프로 표현해 보겠습니다.\n",
    "x_len = np.arange(len(y_loss))\n",
    "plt.plot(x_len, y_vloss, marker='.', c=\"red\", label='Testset_loss')\n",
    "plt.plot(x_len, y_loss, marker='.', c=\"blue\", label='Trainset_loss')\n",
    "\n",
    "# 그래프에 그리드를 주고 레이블을 표시하겠습니다. \n",
    "plt.legend(loc='upper right')\n",
    "plt.grid()\n",
    "plt.xlabel('epoch')\n",
    "plt.ylabel('loss')\n",
    "plt.show()"
   ]
  },
  {
   "cell_type": "code",
   "execution_count": null,
   "id": "bdc256a5-5c02-49ef-8d78-b7e63065f9be",
   "metadata": {},
   "outputs": [],
   "source": []
  }
 ],
 "metadata": {
  "kernelspec": {
   "display_name": "Python 3 (ipykernel)",
   "language": "python",
   "name": "python3"
  },
  "language_info": {
   "codemirror_mode": {
    "name": "ipython",
    "version": 3
   },
   "file_extension": ".py",
   "mimetype": "text/x-python",
   "name": "python",
   "nbconvert_exporter": "python",
   "pygments_lexer": "ipython3",
   "version": "3.9.18"
  }
 },
 "nbformat": 4,
 "nbformat_minor": 5
}
