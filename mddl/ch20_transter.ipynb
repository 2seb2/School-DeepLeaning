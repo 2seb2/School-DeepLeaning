{
 "cells": [
  {
   "cell_type": "code",
   "execution_count": 1,
   "id": "f83eba63-6112-4460-bf9f-3e3723ca23c8",
   "metadata": {},
   "outputs": [],
   "source": [
    "from tensorflow.keras import models, layers, optimizers\n",
    "from tensorflow.keras.preprocessing.image import ImageDataGenerator\n",
    "from tensorflow.keras.callbacks import EarlyStopping\n",
    "from tensorflow.keras.applications import VGG16\n",
    "import numpy as np\n",
    "import matplotlib.pyplot as plt\n",
    "import os\n",
    "os.environ['KMP_DUPLICATE_LIB_OK'] = '1'"
   ]
  },
  {
   "cell_type": "code",
   "execution_count": 2,
   "id": "1a95c5ca-10b6-4542-8c48-17e0252562ba",
   "metadata": {},
   "outputs": [
    {
     "name": "stdout",
     "output_type": "stream",
     "text": [
      "Found 160 images belonging to 2 classes.\n"
     ]
    }
   ],
   "source": [
    "train_datagen = ImageDataGenerator(rescale=1./255,\n",
    "                                   horizontal_flip=True,\n",
    "                                   width_shift_range=0.1,\n",
    "                                   height_shift_range=0.1)\n",
    "train_generator = train_datagen.flow_from_directory('data/train',\n",
    "                                                    target_size=(150, 150), \n",
    "                                                    batch_size=5,\n",
    "                                                    class_mode='binary')"
   ]
  },
  {
   "cell_type": "code",
   "execution_count": 3,
   "id": "c19f92b3-da7e-4a53-82e9-4ab609aecf38",
   "metadata": {},
   "outputs": [
    {
     "name": "stdout",
     "output_type": "stream",
     "text": [
      "Found 120 images belonging to 2 classes.\n"
     ]
    }
   ],
   "source": [
    "test_datagen = ImageDataGenerator(rescale=1./255,\n",
    "                                   horizontal_flip=True,\n",
    "                                   width_shift_range=0.1,\n",
    "                                   height_shift_range=0.1)\n",
    "test_generator = test_datagen.flow_from_directory('data/test',\n",
    "                                                    target_size=(150, 150), \n",
    "                                                    batch_size=5,\n",
    "                                                    class_mode='binary')"
   ]
  },
  {
   "cell_type": "code",
   "execution_count": 4,
   "id": "02929e51-d75c-43c9-9b2f-190cf1f3cc12",
   "metadata": {},
   "outputs": [
    {
     "name": "stdout",
     "output_type": "stream",
     "text": [
      "Downloading data from https://storage.googleapis.com/tensorflow/keras-applications/vgg16/vgg16_weights_tf_dim_ordering_tf_kernels_notop.h5\n",
      "58889256/58889256 [==============================] - 4s 0us/step\n",
      "Model: \"vgg16\"\n",
      "_________________________________________________________________\n",
      " Layer (type)                Output Shape              Param #   \n",
      "=================================================================\n",
      " input_1 (InputLayer)        [(None, 150, 150, 3)]     0         \n",
      "                                                                 \n",
      " block1_conv1 (Conv2D)       (None, 150, 150, 64)      1792      \n",
      "                                                                 \n",
      " block1_conv2 (Conv2D)       (None, 150, 150, 64)      36928     \n",
      "                                                                 \n",
      " block1_pool (MaxPooling2D)  (None, 75, 75, 64)        0         \n",
      "                                                                 \n",
      " block2_conv1 (Conv2D)       (None, 75, 75, 128)       73856     \n",
      "                                                                 \n",
      " block2_conv2 (Conv2D)       (None, 75, 75, 128)       147584    \n",
      "                                                                 \n",
      " block2_pool (MaxPooling2D)  (None, 37, 37, 128)       0         \n",
      "                                                                 \n",
      " block3_conv1 (Conv2D)       (None, 37, 37, 256)       295168    \n",
      "                                                                 \n",
      " block3_conv2 (Conv2D)       (None, 37, 37, 256)       590080    \n",
      "                                                                 \n",
      " block3_conv3 (Conv2D)       (None, 37, 37, 256)       590080    \n",
      "                                                                 \n",
      " block3_pool (MaxPooling2D)  (None, 18, 18, 256)       0         \n",
      "                                                                 \n",
      " block4_conv1 (Conv2D)       (None, 18, 18, 512)       1180160   \n",
      "                                                                 \n",
      " block4_conv2 (Conv2D)       (None, 18, 18, 512)       2359808   \n",
      "                                                                 \n",
      " block4_conv3 (Conv2D)       (None, 18, 18, 512)       2359808   \n",
      "                                                                 \n",
      " block4_pool (MaxPooling2D)  (None, 9, 9, 512)         0         \n",
      "                                                                 \n",
      " block5_conv1 (Conv2D)       (None, 9, 9, 512)         2359808   \n",
      "                                                                 \n",
      " block5_conv2 (Conv2D)       (None, 9, 9, 512)         2359808   \n",
      "                                                                 \n",
      " block5_conv3 (Conv2D)       (None, 9, 9, 512)         2359808   \n",
      "                                                                 \n",
      " block5_pool (MaxPooling2D)  (None, 4, 4, 512)         0         \n",
      "                                                                 \n",
      "=================================================================\n",
      "Total params: 14,714,688\n",
      "Trainable params: 0\n",
      "Non-trainable params: 14,714,688\n",
      "_________________________________________________________________\n"
     ]
    }
   ],
   "source": [
    "transfer_model = VGG16(weights='imagenet', include_top=False,\n",
    "                      input_shape=(150, 150, 3))\n",
    "transfer_model.trainable = False\n",
    "transfer_model.summary()"
   ]
  },
  {
   "cell_type": "code",
   "execution_count": 5,
   "id": "38dadbec-84b6-4be3-8c1a-6357d680999d",
   "metadata": {},
   "outputs": [],
   "source": [
    "finetune_model = models.Sequential()\n",
    "finetune_model.add(transfer_model)\n",
    "finetune_model.add(layers.Flatten())\n",
    "finetune_model.add(layers.Dense(64, activation='relu'))\n",
    "finetune_model.add(layers.Dropout(0.5))\n",
    "finetune_model.add(layers.Dense(1, activation='sigmoid'))"
   ]
  },
  {
   "cell_type": "code",
   "execution_count": 6,
   "id": "b925e21c-bf7d-4844-85e4-f9bdd6c698f3",
   "metadata": {},
   "outputs": [
    {
     "name": "stdout",
     "output_type": "stream",
     "text": [
      "Model: \"sequential\"\n",
      "_________________________________________________________________\n",
      " Layer (type)                Output Shape              Param #   \n",
      "=================================================================\n",
      " vgg16 (Functional)          (None, 4, 4, 512)         14714688  \n",
      "                                                                 \n",
      " flatten (Flatten)           (None, 8192)              0         \n",
      "                                                                 \n",
      " dense (Dense)               (None, 64)                524352    \n",
      "                                                                 \n",
      " dropout (Dropout)           (None, 64)                0         \n",
      "                                                                 \n",
      " dense_1 (Dense)             (None, 1)                 65        \n",
      "                                                                 \n",
      "=================================================================\n",
      "Total params: 15,239,105\n",
      "Trainable params: 524,417\n",
      "Non-trainable params: 14,714,688\n",
      "_________________________________________________________________\n"
     ]
    }
   ],
   "source": [
    "finetune_model.summary()"
   ]
  },
  {
   "cell_type": "code",
   "execution_count": 7,
   "id": "4eec7991-a11c-4173-869a-fd78eae611db",
   "metadata": {},
   "outputs": [],
   "source": [
    "finetune_model.compile(loss='binary_crossentropy', \n",
    "              optimizer=optimizers.Adam(learning_rate=0.0002), \n",
    "              metrics=['accuracy'])\n",
    "early_stopping = EarlyStopping(monitor='val_loss', patience=5)"
   ]
  },
  {
   "cell_type": "code",
   "execution_count": 8,
   "id": "cfc21f72-aaed-45c6-a95e-999ee5722a21",
   "metadata": {},
   "outputs": [
    {
     "name": "stdout",
     "output_type": "stream",
     "text": [
      "Epoch 1/20\n",
      "32/32 [==============================] - 23s 691ms/step - loss: 0.6986 - accuracy: 0.5938 - val_loss: 0.5233 - val_accuracy: 0.8167\n",
      "Epoch 2/20\n",
      "32/32 [==============================] - 22s 701ms/step - loss: 0.5654 - accuracy: 0.7188 - val_loss: 0.4762 - val_accuracy: 0.8250\n",
      "Epoch 3/20\n",
      "32/32 [==============================] - 22s 682ms/step - loss: 0.4678 - accuracy: 0.8000 - val_loss: 0.4059 - val_accuracy: 0.8917\n",
      "Epoch 4/20\n",
      "32/32 [==============================] - 22s 679ms/step - loss: 0.3994 - accuracy: 0.8687 - val_loss: 0.3846 - val_accuracy: 0.8583\n",
      "Epoch 5/20\n",
      "32/32 [==============================] - 21s 678ms/step - loss: 0.3372 - accuracy: 0.8750 - val_loss: 0.3771 - val_accuracy: 0.8500\n",
      "Epoch 6/20\n",
      "32/32 [==============================] - 22s 696ms/step - loss: 0.3534 - accuracy: 0.8750 - val_loss: 0.3105 - val_accuracy: 0.9000\n",
      "Epoch 7/20\n",
      "32/32 [==============================] - 22s 706ms/step - loss: 0.3514 - accuracy: 0.8813 - val_loss: 0.2901 - val_accuracy: 0.9000\n",
      "Epoch 8/20\n",
      "32/32 [==============================] - 22s 683ms/step - loss: 0.3068 - accuracy: 0.9187 - val_loss: 0.2796 - val_accuracy: 0.9167\n",
      "Epoch 9/20\n",
      "32/32 [==============================] - 22s 690ms/step - loss: 0.2639 - accuracy: 0.9312 - val_loss: 0.2457 - val_accuracy: 0.9417\n",
      "Epoch 10/20\n",
      "32/32 [==============================] - 22s 682ms/step - loss: 0.2759 - accuracy: 0.9000 - val_loss: 0.2321 - val_accuracy: 0.9417\n",
      "Epoch 11/20\n",
      "32/32 [==============================] - 21s 676ms/step - loss: 0.1947 - accuracy: 0.9688 - val_loss: 0.2219 - val_accuracy: 0.9333\n",
      "Epoch 12/20\n",
      "32/32 [==============================] - 22s 681ms/step - loss: 0.2453 - accuracy: 0.9062 - val_loss: 0.2276 - val_accuracy: 0.9250\n",
      "Epoch 13/20\n",
      "32/32 [==============================] - 22s 701ms/step - loss: 0.2123 - accuracy: 0.9500 - val_loss: 0.1967 - val_accuracy: 0.9500\n",
      "Epoch 14/20\n",
      "32/32 [==============================] - 22s 690ms/step - loss: 0.1771 - accuracy: 0.9688 - val_loss: 0.1805 - val_accuracy: 0.9250\n",
      "Epoch 15/20\n",
      "32/32 [==============================] - 22s 681ms/step - loss: 0.2048 - accuracy: 0.9375 - val_loss: 0.1689 - val_accuracy: 0.9583\n",
      "Epoch 16/20\n",
      "32/32 [==============================] - 22s 696ms/step - loss: 0.1693 - accuracy: 0.9500 - val_loss: 0.1693 - val_accuracy: 0.9500\n",
      "Epoch 17/20\n",
      "32/32 [==============================] - 21s 678ms/step - loss: 0.1774 - accuracy: 0.9312 - val_loss: 0.1958 - val_accuracy: 0.9333\n",
      "Epoch 18/20\n",
      "32/32 [==============================] - 21s 679ms/step - loss: 0.1857 - accuracy: 0.9375 - val_loss: 0.1811 - val_accuracy: 0.9333\n",
      "Epoch 19/20\n",
      "32/32 [==============================] - 22s 681ms/step - loss: 0.1965 - accuracy: 0.9563 - val_loss: 0.1694 - val_accuracy: 0.9333\n",
      "Epoch 20/20\n",
      "32/32 [==============================] - 22s 705ms/step - loss: 0.1433 - accuracy: 0.9500 - val_loss: 0.1497 - val_accuracy: 0.9500\n"
     ]
    }
   ],
   "source": [
    "history = finetune_model.fit(train_generator, epochs=20,\n",
    "                    validation_data=test_generator, callbacks=[early_stopping])"
   ]
  },
  {
   "cell_type": "code",
   "execution_count": 9,
   "id": "159ac609-a679-4cb6-b9bd-a5f216305758",
   "metadata": {},
   "outputs": [
    {
     "data": {
      "image/png": "[encoded data removed]",
      "text/plain": [
       "<Figure size 640x480 with 1 Axes>"
      ]
     },
     "metadata": {},
     "output_type": "display_data"
    }
   ],
   "source": [
    "y_vloss = history.history['val_loss']\n",
    "y_loss = history.history['loss']\n",
    "\n",
    "# 그래프로 표현해 봅니다.\n",
    "x_len = np.arange(len(y_loss))\n",
    "plt.plot(x_len, y_vloss, marker='.', c=\"red\", label='Testset_loss')\n",
    "plt.plot(x_len, y_loss, marker='.', c=\"blue\", label='Trainset_loss')\n",
    "\n",
    "# 그래프에 그리드를 주고 레이블을 표시하겠습니다.\n",
    "plt.legend(loc='upper right')\n",
    "plt.grid()\n",
    "plt.xlabel('epoch')\n",
    "plt.ylabel('loss')\n",
    "plt.show()"
   ]
  },
  {
   "cell_type": "code",
   "execution_count": null,
   "id": "6c57ac71-f447-4bc4-8f4a-2c12e7b5484e",
   "metadata": {},
   "outputs": [],
   "source": []
  }
 ],
 "metadata": {
  "kernelspec": {
   "display_name": "Python 3 (ipykernel)",
   "language": "python",
   "name": "python3"
  },
  "language_info": {
   "codemirror_mode": {
    "name": "ipython",
    "version": 3
   },
   "file_extension": ".py",
   "mimetype": "text/x-python",
   "name": "python",
   "nbconvert_exporter": "python",
   "pygments_lexer": "ipython3",
   "version": "3.9.18"
  }
 },
 "nbformat": 4,
 "nbformat_minor": 5
}
