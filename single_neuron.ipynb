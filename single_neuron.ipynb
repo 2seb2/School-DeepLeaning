{
 "cells": [
  {
   "cell_type": "code",
   "execution_count": 1,
   "id": "05e88e49-263b-43e0-9aa6-122a8e555822",
   "metadata": {},
   "outputs": [],
   "source": [
    "import numpy as np\n",
    "import matplotlib.pyplot as plt"
   ]
  },
  {
   "cell_type": "code",
   "execution_count": 2,
   "id": "55918c04-bb4d-4811-8cd3-29023717b1c3",
   "metadata": {},
   "outputs": [
    {
     "data": {
      "text/plain": [
       "array([-1.00000000e+00, -8.00000000e-01, -6.00000000e-01, -4.00000000e-01,\n",
       "       -2.00000000e-01, -2.22044605e-16,  2.00000000e-01,  4.00000000e-01,\n",
       "        6.00000000e-01,  8.00000000e-01])"
      ]
     },
     "execution_count": 2,
     "metadata": {},
     "output_type": "execute_result"
    }
   ],
   "source": [
    "X1 = np.arange(-1.0, 1.0, 0.2)\n",
    "X2 = np.arange(-1.0, 1.0, 0.2)\n",
    "X1"
   ]
  },
  {
   "cell_type": "code",
   "execution_count": 3,
   "id": "cd634104-7b49-4bba-b275-b32dff9a70ef",
   "metadata": {},
   "outputs": [],
   "source": [
    "Z = np.zeros((10, 10))"
   ]
  },
  {
   "cell_type": "code",
   "execution_count": 4,
   "id": "687a9826-b656-4ff4-b2d6-2a3bae89e5e5",
   "metadata": {},
   "outputs": [],
   "source": [
    "W = np.array([2.5, 3.0])"
   ]
  },
  {
   "cell_type": "code",
   "execution_count": 23,
   "id": "a5045ef9-850b-4c28-99cf-18951933122d",
   "metadata": {},
   "outputs": [],
   "source": [
    "bias = np.array([1])"
   ]
  },
  {
   "cell_type": "code",
   "execution_count": 24,
   "id": "84f222a9-75f6-4af4-9e56-11105f57511b",
   "metadata": {},
   "outputs": [],
   "source": [
    "for i in range(10):\n",
    "    for j in range(10):\n",
    "        X = np.array([X1[i], X2[j]])\n",
    "        u = np.dot(X, W.T) + bias\n",
    "        y = 1 / (1 + np.exp(-u))\n",
    "        Z[j][i] = y[0]"
   ]
  },
  {
   "cell_type": "code",
   "execution_count": 25,
   "id": "acd7cb55-96ba-4a3e-9c27-2a6b3dfc957b",
   "metadata": {},
   "outputs": [
    {
     "data": {
      "image/png": "[encoded data removed]",
      "text/plain": [
       "<Figure size 640x480 with 2 Axes>"
      ]
     },
     "metadata": {},
     "output_type": "display_data"
    }
   ],
   "source": [
    "plt.imshow(Z, cmap='gray', vmin=0.0, vmax=1.0)\n",
    "plt.colorbar()\n",
    "plt.show()"
   ]
  },
  {
   "cell_type": "code",
   "execution_count": null,
   "id": "59f325ad-4f9e-4c4c-943b-7215cace88af",
   "metadata": {},
   "outputs": [],
   "source": []
  }
 ],
 "metadata": {
  "kernelspec": {
   "display_name": "Python 3 (ipykernel)",
   "language": "python",
   "name": "python3"
  },
  "language_info": {
   "codemirror_mode": {
    "name": "ipython",
    "version": 3
   },
   "file_extension": ".py",
   "mimetype": "text/x-python",
   "name": "python",
   "nbconvert_exporter": "python",
   "pygments_lexer": "ipython3",
   "version": "3.11.9"
  }
 },
 "nbformat": 4,
 "nbformat_minor": 5
}
